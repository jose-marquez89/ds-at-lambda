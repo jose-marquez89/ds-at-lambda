{
 "cells": [
  {
   "cell_type": "markdown",
   "metadata": {},
   "source": [
    "# Lambda School Data Science Program Hires\n",
    "Data was acquired via a raw count of Slack workspace #hired channel alerts."
   ]
  },
  {
   "cell_type": "code",
   "execution_count": 1,
   "metadata": {},
   "outputs": [],
   "source": [
    "import datetime\n",
    "\n",
    "import pandas as pd\n",
    "import numpy as np\n",
    "import seaborn as sns\n",
    "import matplotlib.pyplot as plt"
   ]
  },
  {
   "cell_type": "code",
   "execution_count": 2,
   "metadata": {},
   "outputs": [
    {
     "data": {
      "text/html": [
       "<div>\n",
       "<style scoped>\n",
       "    .dataframe tbody tr th:only-of-type {\n",
       "        vertical-align: middle;\n",
       "    }\n",
       "\n",
       "    .dataframe tbody tr th {\n",
       "        vertical-align: top;\n",
       "    }\n",
       "\n",
       "    .dataframe thead th {\n",
       "        text-align: right;\n",
       "    }\n",
       "</style>\n",
       "<table border=\"1\" class=\"dataframe\">\n",
       "  <thead>\n",
       "    <tr style=\"text-align: right;\">\n",
       "      <th></th>\n",
       "      <th>ds_track</th>\n",
       "      <th>hire_date</th>\n",
       "    </tr>\n",
       "  </thead>\n",
       "  <tbody>\n",
       "    <tr>\n",
       "      <th>0</th>\n",
       "      <td>11</td>\n",
       "      <td>2020-09-23</td>\n",
       "    </tr>\n",
       "    <tr>\n",
       "      <th>1</th>\n",
       "      <td>16</td>\n",
       "      <td>2020-09-11</td>\n",
       "    </tr>\n",
       "    <tr>\n",
       "      <th>2</th>\n",
       "      <td>6</td>\n",
       "      <td>2020-10-07</td>\n",
       "    </tr>\n",
       "    <tr>\n",
       "      <th>3</th>\n",
       "      <td>11</td>\n",
       "      <td>2020-07-15</td>\n",
       "    </tr>\n",
       "    <tr>\n",
       "      <th>4</th>\n",
       "      <td>8</td>\n",
       "      <td>2020-09-09</td>\n",
       "    </tr>\n",
       "  </tbody>\n",
       "</table>\n",
       "</div>"
      ],
      "text/plain": [
       "   ds_track  hire_date\n",
       "0        11 2020-09-23\n",
       "1        16 2020-09-11\n",
       "2         6 2020-10-07\n",
       "3        11 2020-07-15\n",
       "4         8 2020-09-09"
      ]
     },
     "execution_count": 2,
     "metadata": {},
     "output_type": "execute_result"
    }
   ],
   "source": [
    "hires = pd.read_csv(\"lambda-ds-hires.csv\", usecols=[0, 1],\n",
    "                    parse_dates=[\"Hire Date\"])\n",
    "hires = hires.rename(columns={\"Track\": \"ds_track\", \"Hire Date\": \"hire_date\"})\n",
    "hires.head()"
   ]
  },
  {
   "cell_type": "markdown",
   "metadata": {},
   "source": [
    "So far, there have been 16 cohorts. It's no surprise that the first cohort has had the most hires as they've had plenty of time.\n",
    "Ironically, the second cohort has had less than 10 hires despite being one of the earliest."
   ]
  },
  {
   "cell_type": "code",
   "execution_count": 3,
   "metadata": {},
   "outputs": [
    {
     "data": {
      "image/png": "[encoded data removed]",
      "text/plain": [
       "<Figure size 360x360 with 1 Axes>"
      ]
     },
     "metadata": {},
     "output_type": "display_data"
    }
   ],
   "source": [
    "sns.set_theme()\n",
    "catplot = sns.catplot(data=hires, x=\"ds_track\", kind=\"count\")\n",
    "plt.title(\"Students Hired by DS Track\")\n",
    "catplot.savefig(\"hired_count.png\");"
   ]
  },
  {
   "cell_type": "markdown",
   "metadata": {},
   "source": [
    "### Bootstrapping Confidence Interval"
   ]
  },
  {
   "cell_type": "markdown",
   "metadata": {},
   "source": [
    "I wanted to know what the average time to hire was, but with only 86 samples, bootstrapping and getting a confidence interval for means might be the easiest way to get a good feel for what the average time to hire is. I'm using an assumed program begin date as the starting point for each cohort given that I'm not sure if there are program length variations by track. My start date was Dec 2, 2019. Here I assume that a new cohort started every month, thus the main assumption is that DS1 started on February 05, 2019."
   ]
  },
  {
   "cell_type": "code",
   "execution_count": 4,
   "metadata": {},
   "outputs": [
    {
     "data": {
      "text/plain": [
       "Timestamp('2019-02-05 00:00:00')"
      ]
     },
     "execution_count": 4,
     "metadata": {},
     "output_type": "execute_result"
    }
   ],
   "source": [
    "# When did DS1 begin?\n",
    "ds11 = pd.Timestamp('2019-12-02')\n",
    "average_days_per_month = round(365 / 12)\n",
    "ten_months = pd.Timedelta(value=(average_days_per_month * 10), unit=\"days\")\n",
    "ds1 = ds11 - ten_months\n",
    "\n",
    "ds1"
   ]
  },
  {
   "cell_type": "code",
   "execution_count": 5,
   "metadata": {},
   "outputs": [],
   "source": [
    "def get_date(track: int) -> pd.Timestamp:\n",
    "        \"\"\"Gets the start of the track date based on track number\"\"\"\n",
    "        ds1 = pd.Timestamp('2019-02-05')\n",
    "        if track == 1:\n",
    "            return ds1\n",
    "        else:\n",
    "            later_track = pd.Timedelta(value=(30 * (track-1)), unit=\"days\")\n",
    "            return ds1 + later_track"
   ]
  },
  {
   "cell_type": "code",
   "execution_count": 6,
   "metadata": {},
   "outputs": [
    {
     "data": {
      "text/html": [
       "<div>\n",
       "<style scoped>\n",
       "    .dataframe tbody tr th:only-of-type {\n",
       "        vertical-align: middle;\n",
       "    }\n",
       "\n",
       "    .dataframe tbody tr th {\n",
       "        vertical-align: top;\n",
       "    }\n",
       "\n",
       "    .dataframe thead th {\n",
       "        text-align: right;\n",
       "    }\n",
       "</style>\n",
       "<table border=\"1\" class=\"dataframe\">\n",
       "  <thead>\n",
       "    <tr style=\"text-align: right;\">\n",
       "      <th></th>\n",
       "      <th>ds_track</th>\n",
       "      <th>hire_date</th>\n",
       "      <th>estimated_start</th>\n",
       "      <th>days_to_hire</th>\n",
       "    </tr>\n",
       "  </thead>\n",
       "  <tbody>\n",
       "    <tr>\n",
       "      <th>0</th>\n",
       "      <td>11</td>\n",
       "      <td>2020-09-23</td>\n",
       "      <td>2019-12-02</td>\n",
       "      <td>296</td>\n",
       "    </tr>\n",
       "    <tr>\n",
       "      <th>1</th>\n",
       "      <td>16</td>\n",
       "      <td>2020-09-11</td>\n",
       "      <td>2020-04-30</td>\n",
       "      <td>134</td>\n",
       "    </tr>\n",
       "    <tr>\n",
       "      <th>2</th>\n",
       "      <td>6</td>\n",
       "      <td>2020-10-07</td>\n",
       "      <td>2019-07-05</td>\n",
       "      <td>460</td>\n",
       "    </tr>\n",
       "    <tr>\n",
       "      <th>3</th>\n",
       "      <td>11</td>\n",
       "      <td>2020-07-15</td>\n",
       "      <td>2019-12-02</td>\n",
       "      <td>226</td>\n",
       "    </tr>\n",
       "    <tr>\n",
       "      <th>4</th>\n",
       "      <td>8</td>\n",
       "      <td>2020-09-09</td>\n",
       "      <td>2019-09-03</td>\n",
       "      <td>372</td>\n",
       "    </tr>\n",
       "  </tbody>\n",
       "</table>\n",
       "</div>"
      ],
      "text/plain": [
       "   ds_track  hire_date estimated_start  days_to_hire\n",
       "0        11 2020-09-23      2019-12-02           296\n",
       "1        16 2020-09-11      2020-04-30           134\n",
       "2         6 2020-10-07      2019-07-05           460\n",
       "3        11 2020-07-15      2019-12-02           226\n",
       "4         8 2020-09-09      2019-09-03           372"
      ]
     },
     "execution_count": 6,
     "metadata": {},
     "output_type": "execute_result"
    }
   ],
   "source": [
    "hires[\"estimated_start\"] = hires[\"ds_track\"].apply(get_date)\n",
    "hires[\"days_to_hire\"] = (hires[\"hire_date\"] - hires[\"estimated_start\"]).dt.days\n",
    "\n",
    "hires.head()"
   ]
  },
  {
   "cell_type": "markdown",
   "metadata": {},
   "source": [
    "Before bootstrapping, the average time to hire is ~277 days, with the median at ~283 days."
   ]
  },
  {
   "cell_type": "code",
   "execution_count": 7,
   "metadata": {},
   "outputs": [
    {
     "data": {
      "text/html": [
       "<div>\n",
       "<style scoped>\n",
       "    .dataframe tbody tr th:only-of-type {\n",
       "        vertical-align: middle;\n",
       "    }\n",
       "\n",
       "    .dataframe tbody tr th {\n",
       "        vertical-align: top;\n",
       "    }\n",
       "\n",
       "    .dataframe thead th {\n",
       "        text-align: right;\n",
       "    }\n",
       "</style>\n",
       "<table border=\"1\" class=\"dataframe\">\n",
       "  <thead>\n",
       "    <tr style=\"text-align: right;\">\n",
       "      <th></th>\n",
       "      <th>ds_track</th>\n",
       "      <th>days_to_hire</th>\n",
       "    </tr>\n",
       "  </thead>\n",
       "  <tbody>\n",
       "    <tr>\n",
       "      <th>count</th>\n",
       "      <td>86.000000</td>\n",
       "      <td>86.000000</td>\n",
       "    </tr>\n",
       "    <tr>\n",
       "      <th>mean</th>\n",
       "      <td>5.709302</td>\n",
       "      <td>277.093023</td>\n",
       "    </tr>\n",
       "    <tr>\n",
       "      <th>std</th>\n",
       "      <td>3.791217</td>\n",
       "      <td>94.587106</td>\n",
       "    </tr>\n",
       "    <tr>\n",
       "      <th>min</th>\n",
       "      <td>1.000000</td>\n",
       "      <td>67.000000</td>\n",
       "    </tr>\n",
       "    <tr>\n",
       "      <th>25%</th>\n",
       "      <td>2.250000</td>\n",
       "      <td>212.250000</td>\n",
       "    </tr>\n",
       "    <tr>\n",
       "      <th>50%</th>\n",
       "      <td>6.000000</td>\n",
       "      <td>283.000000</td>\n",
       "    </tr>\n",
       "    <tr>\n",
       "      <th>75%</th>\n",
       "      <td>8.000000</td>\n",
       "      <td>351.750000</td>\n",
       "    </tr>\n",
       "    <tr>\n",
       "      <th>max</th>\n",
       "      <td>16.000000</td>\n",
       "      <td>460.000000</td>\n",
       "    </tr>\n",
       "  </tbody>\n",
       "</table>\n",
       "</div>"
      ],
      "text/plain": [
       "        ds_track  days_to_hire\n",
       "count  86.000000     86.000000\n",
       "mean    5.709302    277.093023\n",
       "std     3.791217     94.587106\n",
       "min     1.000000     67.000000\n",
       "25%     2.250000    212.250000\n",
       "50%     6.000000    283.000000\n",
       "75%     8.000000    351.750000\n",
       "max    16.000000    460.000000"
      ]
     },
     "execution_count": 7,
     "metadata": {},
     "output_type": "execute_result"
    }
   ],
   "source": [
    "hires.describe()"
   ]
  },
  {
   "cell_type": "markdown",
   "metadata": {},
   "source": [
    "The distribution is relatively normal looking for days spent in the program before hire. I didn't use graduation as the starting point for days-to-hire, as some students were hired before graduating from the program"
   ]
  },
  {
   "cell_type": "code",
   "execution_count": 8,
   "metadata": {},
   "outputs": [
    {
     "data": {
      "image/png": "[encoded data removed]",
      "text/plain": [
       "<Figure size 360x360 with 1 Axes>"
      ]
     },
     "metadata": {},
     "output_type": "display_data"
    }
   ],
   "source": [
    "distplot = sns.displot(data=hires, x=\"days_to_hire\", kde=True, bins=20)\n",
    "plt.title(\"Days To Hire\")\n",
    "plt.xlabel(\"Days\")\n",
    "distplot.savefig(\"days_to_hire_dist.png\");"
   ]
  },
  {
   "cell_type": "code",
   "execution_count": 9,
   "metadata": {},
   "outputs": [],
   "source": [
    "np.random.seed(0)\n",
    "means = [np.random.choice(hires[\"days_to_hire\"], size=300).mean() for _ in range(10000)]\n",
    "means = np.array(means)"
   ]
  },
  {
   "cell_type": "code",
   "execution_count": 10,
   "metadata": {},
   "outputs": [
    {
     "data": {
      "image/png": "[encoded data removed]",
      "text/plain": [
       "<Figure size 360x360 with 1 Axes>"
      ]
     },
     "metadata": {},
     "output_type": "display_data"
    }
   ],
   "source": [
    "OUT_H = 85\n",
    "IN_H = 500\n",
    "LW = 2\n",
    "\n",
    "bootstrapped = sns.displot(data=means)\n",
    "\n",
    "plt.title(\"Bootstrapped Days To Hire\")\n",
    "plt.plot(np.full((IN_H,), means.mean()), np.arange(0, IN_H), color=\"#FE063A\", lw=LW)\n",
    "plt.plot(np.full((OUT_H,), np.quantile(means, 0.025)), \n",
    "         np.arange(0, OUT_H), color=\"#37FD12\", lw=LW)\n",
    "plt.plot(np.full((OUT_H,), np.quantile(means, 0.975)), \n",
    "         np.arange(0, OUT_H), color=\"#37FD12\", lw=LW)\n",
    "plt.xlabel(\"Means within 95% CI\")\n",
    "\n",
    "bootstrapped.savefig(\"bs_day_means.png\");"
   ]
  },
  {
   "cell_type": "code",
   "execution_count": 11,
   "metadata": {},
   "outputs": [
    {
     "name": "stdout",
     "output_type": "stream",
     "text": [
      "Upper Bound: 287.5470833333333\n",
      "Lower Bound: 266.4265833333333\n"
     ]
    }
   ],
   "source": [
    "print(f\"Upper Bound: {np.quantile(means, .975)}\")\n",
    "print(f\"Lower Bound: {np.quantile(means, .025)}\")"
   ]
  }
 ],
 "metadata": {
  "kernelspec": {
   "display_name": "Python (data-gov)",
   "language": "python",
   "name": "data-gov"
  },
  "language_info": {
   "codemirror_mode": {
    "name": "ipython",
    "version": 3
   },
   "file_extension": ".py",
   "mimetype": "text/x-python",
   "name": "python",
   "nbconvert_exporter": "python",
   "pygments_lexer": "ipython3",
   "version": "3.7.0"
  }
 },
 "nbformat": 4,
 "nbformat_minor": 4
}
